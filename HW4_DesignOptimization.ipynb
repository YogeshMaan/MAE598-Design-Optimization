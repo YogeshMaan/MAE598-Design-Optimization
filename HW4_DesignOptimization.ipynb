{
  "nbformat": 4,
  "nbformat_minor": 0,
  "metadata": {
    "colab": {
      "provenance": [],
      "authorship_tag": "ABX9TyNTC0IQfpZraCizwVChd8aG",
      "include_colab_link": true
    },
    "kernelspec": {
      "name": "python3",
      "display_name": "Python 3"
    },
    "language_info": {
      "name": "python"
    }
  },
  "cells": [
    {
      "cell_type": "markdown",
      "metadata": {
        "id": "view-in-github",
        "colab_type": "text"
      },
      "source": [
        "<a href=\"https://colab.research.google.com/github/YogeshMaan/MAE598-Design-Optimization/blob/main/HW4_DesignOptimization.ipynb\" target=\"_parent\"><img src=\"https://colab.research.google.com/assets/colab-badge.svg\" alt=\"Open In Colab\"/></a>"
      ]
    },
    {
      "cell_type": "markdown",
      "source": [
        "### Initialize parameters\n",
        "1. $x_{0}$\n",
        "2. $λ_{0}$\n",
        "3. $μ_{0}$\n",
        "4. $W_{0}$ (initialized as an identity matrix)\n",
        "5. $k=0$ (counter for iterations)\n",
        "6. $ϵ=10e-3$\n",
        "\n"
      ],
      "metadata": {
        "id": "zICh5v1vBDTx"
      }
    },
    {
      "cell_type": "code",
      "source": [
        "#import dependencies\n",
        "import numpy as np\n",
        "import cvxopt\n",
        "import cvxopt.solvers"
      ],
      "metadata": {
        "id": "24xuVUnNKZZL"
      },
      "execution_count": 144,
      "outputs": []
    },
    {
      "cell_type": "code",
      "execution_count": 144,
      "metadata": {
        "id": "etY8LFxJz2ds"
      },
      "outputs": [],
      "source": []
    },
    {
      "cell_type": "markdown",
      "source": [
        "### Calculate the lagrangian derivative\n",
        "$$∇_{x}L = ∇_{x}f + λ^{T}∇_{x}h + μ^{T}∇_{x}g  $$"
      ],
      "metadata": {
        "id": "u8MR-6DcCDrU"
      }
    },
    {
      "cell_type": "code",
      "source": [
        "def objective(x):\n",
        "  return np.array([[x[0][0]**2 + (x[1][0]-3)**2]]).astype('float')"
      ],
      "metadata": {
        "id": "HUlEyL7xCCJa"
      },
      "execution_count": 145,
      "outputs": []
    },
    {
      "cell_type": "code",
      "source": [
        "def objectiveg(x):\n",
        "  return np.array([[2*x[0][0], 2*x[1][0]-6]]).astype('float')"
      ],
      "metadata": {
        "id": "lujP-W_mLO9P"
      },
      "execution_count": 146,
      "outputs": []
    },
    {
      "cell_type": "code",
      "source": [
        "def constraint(x):\n",
        "  return np.array([[x[1][0]**2-2*x[0][0]],\n",
        "                    [x[1][0]**2]+5*x[0][0]-15]).astype('float')"
      ],
      "metadata": {
        "id": "dScJXEpRLRp6"
      },
      "execution_count": 147,
      "outputs": []
    },
    {
      "cell_type": "code",
      "source": [
        "def constraintg(x):\n",
        "  return np.array([[-2, 2*x[1][0]], [5, 2*x[1][0]-2]]).astype('float')\n"
      ],
      "metadata": {
        "id": "969kC8q5Lb8r"
      },
      "execution_count": 148,
      "outputs": []
    },
    {
      "cell_type": "code",
      "source": [
        "# P: Hessian matrix\n",
        "# q: gradient of objective\n",
        "# G: gradient of constraints\n",
        "# h: -constraint(x)\n",
        "\n",
        "# GET\n",
        "# s = sol['x']\n",
        "# mu_new = sol['z']\n",
        "\n",
        "def solve_qp_subproblem(P, q, G, h, A=None, b=None):\n",
        "    \"\"\"\n",
        "    Solve a Quadratic Programming subproblem using cvxopt.\n",
        "\n",
        "    Parameters:\n",
        "    - P: Symmetric matrix representing the quadratic cost\n",
        "    - q: Vector representing the linear cost\n",
        "    - G: Matrix defining the inequality constraints (optional)\n",
        "    - h: Vector defining the inequality constraints (optional)\n",
        "    - A: Matrix defining the equality constraints (optional)\n",
        "    - b: Vector defining the equality constraints (optional)\n",
        "\n",
        "    Returns:\n",
        "    - sol: Solution to the QP problem\n",
        "    \"\"\"\n",
        "    # Convert parameters to cvxopt matrices\n",
        "    P = cvxopt.matrix(P)\n",
        "    q = cvxopt.matrix(q)\n",
        "\n",
        "    if G is not None:\n",
        "        G = cvxopt.matrix(G)\n",
        "        h = cvxopt.matrix(h)\n",
        "    else:\n",
        "        G = cvxopt.matrix(0.0, (0, P.size[0]))\n",
        "        h = cvxopt.matrix(0.0, (0, 1))\n",
        "\n",
        "    if A is not None:\n",
        "        A = cvxopt.matrix(A)\n",
        "        b = cvxopt.matrix(b)\n",
        "    else:\n",
        "        A = cvxopt.matrix(0.0, (0, P.size[0]))\n",
        "        b = cvxopt.matrix(0.0, (0, 1))\n",
        "\n",
        "    # Solve the QP problem\n",
        "    sol = cvxopt.solvers.qp(P, q, G, h, A, b)\n",
        "\n",
        "    return sol\n"
      ],
      "metadata": {
        "id": "Rc-8_5m5dW3B"
      },
      "execution_count": 149,
      "outputs": []
    },
    {
      "cell_type": "code",
      "source": [
        "def lineSearch(x, s, mu_old, w_old):\n",
        "  t = .1\n",
        "  b = .8\n",
        "  a = 1\n",
        "\n",
        "  D = s\n",
        "\n",
        "  #calculate weights in the merit function\n",
        "  w = np.maximum(np.abs(mu_old), 0.5*(w_old + np.abs(mu_old)))\n",
        "  count = 0\n",
        "  #terminate if lineSearch takes too long\n",
        "  while count<100:\n",
        "    phi_a = objective(x + a*D) +np.matmul(w.T, np.abs(np.minimum(0, -constraint(x + a*D))))\n",
        "\n",
        "    #calculate psi\n",
        "    phi0 = objective(x) + np.matmul(w.T, np.abs(np.minimum(0, -constraint(x))))\n",
        "    dphi0 = np.matmul(objectiveg(x), D) + np.matmul(w.T, np.multiply(np.matmul(constraintg(x), D), constraint(x)>0) )\n",
        "    psi_a = phi0 + t*a*dphi0\n",
        "\n",
        "    if phi_a<psi_a:\n",
        "      break\n",
        "    else:\n",
        "      a = a*b\n",
        "      count = count+1\n",
        "\n",
        "  return a, w\n"
      ],
      "metadata": {
        "id": "cN8Qi88Sz0Mm"
      },
      "execution_count": 150,
      "outputs": []
    },
    {
      "cell_type": "code",
      "source": [
        "def mysqp(x0, eps):\n",
        "  # set initial conditions\n",
        "  x = x0\n",
        "  # initialize an empty array to store current solution\n",
        "  solution = []\n",
        "\n",
        "  #initialization of the hessian matrix\n",
        "  W = np.eye(x.shape[0], x.shape[0])\n",
        "\n",
        "  #initialization of the lagrangian multipliers\n",
        "  mu_old = np.zeros(constraint(x).shape)\n",
        "  w = np.zeros(constraint(x).shape)\n",
        "\n",
        "  #set the termination criterion\n",
        "  gnorm = np.linalg.norm(objectiveg(x) + np.matmul(mu_old.T, constraintg(x)))\n",
        "\n",
        "  while gnorm>eps:\n",
        "\n",
        "  # solve qpsubproblem to find s and mu (using cvxopt.solvers)\n",
        "    sol = solve_qp_subproblem(W, objectiveg(x).T, constraintg(x), -constraint(x))\n",
        "    s = sol['x']\n",
        "    mu_new = sol['z']\n",
        "\n",
        "  # insert lineSearch here for a = .01\n",
        "    a, w = lineSearch(x, s, mu_old, w)\n",
        "\n",
        "    #update the current solution using the step\n",
        "    dx = a*s\n",
        "    x = x+dx\n",
        "\n",
        "    #update hessian using BFGS\n",
        "    y_k = objectiveg(x) + np.matmul(mu_new.T, constraintg(x)) - objectiveg(x-dx) - np.matmul(mu_new.T, constraintg(x-dx))\n",
        "    y_k = y_k.T\n",
        "\n",
        "    if np.matmul(dx.T, y_k) >= 0.2*np.matmul(np.matmul(dx.T, W), dx):\n",
        "      theta = 1\n",
        "    else:\n",
        "      theta = 0.8*np.matmul(np.matmul(dx.T, W), dx)/(np.matmul(np.matmul(dx.T, W), dx) - np.matmul(dx.T, y_k))\n",
        "\n",
        "    # compute dg_k\n",
        "    dg_k = theta*y_k + (1-theta)*np.matmul(W, dx) # check theta shape\n",
        "\n",
        "    #compute new hessian\n",
        "\n",
        "    W = W + (np.matmul(dg_k, dg_k.T)/np.matmul(dg_k.T, dx)) - (np.matmul(np.matmul(W, dx), np.matmul(W, dx).T)/np.matmul(np.matmul(dx.T, W), dx))\n",
        "\n",
        "    #update termination criterion\n",
        "    gnorm = np.linalg.norm(objectiveg(x) + np.matmul(mu_new.T, constraintg(x)))\n",
        "    mu_old = mu_new\n",
        "    solution.append(x)\n",
        "\n",
        "  return solution\n"
      ],
      "metadata": {
        "id": "J6KUPGb5LjGK"
      },
      "execution_count": 151,
      "outputs": []
    },
    {
      "cell_type": "code",
      "source": [
        "# initialized parameters\n",
        "x0 = np.array([[4],[3]]) #its a feasible point for HW problem\n",
        "eps = 10e-3\n",
        "\n",
        "solution = mysqp(x0, eps)"
      ],
      "metadata": {
        "id": "UlAVWFanmmSr"
      },
      "execution_count": 152,
      "outputs": []
    },
    {
      "cell_type": "markdown",
      "source": [
        "## Solution to the Problem"
      ],
      "metadata": {
        "id": "YABw7hw0BeN-"
      }
    },
    {
      "cell_type": "code",
      "source": [
        "print(solution[4])"
      ],
      "metadata": {
        "colab": {
          "base_uri": "https://localhost:8080/"
        },
        "id": "d_WlR7SOzHYQ",
        "outputId": "7e9fa6d0-2c5e-4e14-e1ed-d558d83f39b0"
      },
      "execution_count": 153,
      "outputs": [
        {
          "output_type": "stream",
          "name": "stdout",
          "text": [
            "[[1.0583139 ]\n",
            " [1.45613446]]\n"
          ]
        }
      ]
    },
    {
      "cell_type": "markdown",
      "source": [
        "## Ploting the solution"
      ],
      "metadata": {
        "id": "u-dr75u3BkYk"
      }
    },
    {
      "cell_type": "code",
      "source": [
        "import matplotlib.pyplot as plt\n"
      ],
      "metadata": {
        "id": "JEFcpvHpzJL6"
      },
      "execution_count": 154,
      "outputs": []
    },
    {
      "cell_type": "code",
      "source": [
        "x = []\n",
        "y = []\n",
        "for i in range(len(solution)):\n",
        "  x.append(solution[i][0][0])\n",
        "  y.append(solution[i][1][0])"
      ],
      "metadata": {
        "id": "FVwOOvc51dB3"
      },
      "execution_count": 155,
      "outputs": []
    },
    {
      "cell_type": "code",
      "source": [
        "plt.plot(x, y)\n",
        "plt.xlabel('x1')\n",
        "plt.ylabel('y1')\n",
        "plt.title('solution convergence')"
      ],
      "metadata": {
        "colab": {
          "base_uri": "https://localhost:8080/",
          "height": 489
        },
        "id": "WSe0PXus10Yr",
        "outputId": "59edec78-0a46-4801-f0f8-aed3373d6651"
      },
      "execution_count": 156,
      "outputs": [
        {
          "output_type": "execute_result",
          "data": {
            "text/plain": [
              "Text(0.5, 1.0, 'solution convergence')"
            ]
          },
          "metadata": {},
          "execution_count": 156
        },
        {
          "output_type": "display_data",
          "data": {
            "text/plain": [
              "<Figure size 640x480 with 1 Axes>"
            ],
            "image/png": "[encoded data removed]"
          },
          "metadata": {}
        }
      ]
    },
    {
      "cell_type": "code",
      "source": [],
      "metadata": {
        "id": "sbK-Vx5112WJ"
      },
      "execution_count": 156,
      "outputs": []
    }
  ]
}
{
  "nbformat": 4,
  "nbformat_minor": 0,
  "metadata": {
    "colab": {
      "provenance": [],
      "authorship_tag": "ABX9TyPAFL6u/2tb8vECHqQMzjAM",
      "include_colab_link": true
    },
    "kernelspec": {
      "name": "python3",
      "display_name": "Python 3"
    },
    "language_info": {
      "name": "python"
    }
  },
  "cells": [
    {
      "cell_type": "markdown",
      "metadata": {
        "id": "view-in-github",
        "colab_type": "text"
      },
      "source": [
        "<a href=\"https://colab.research.google.com/github/YogeshMaan/MAE598-Design-Optimization/blob/main/HW3_DesignOptimization.ipynb\" target=\"_parent\"><img src=\"https://colab.research.google.com/assets/colab-badge.svg\" alt=\"Open In Colab\"/></a>"
      ]
    },
    {
      "cell_type": "markdown",
      "source": [
        "### Generalized Reduced Gradient Descent\n"
      ],
      "metadata": {
        "id": "OVPT3tA7aQMH"
      }
    },
    {
      "cell_type": "code",
      "source": [
        "import numpy as np\n",
        "import matplotlib.pyplot as plt\n"
      ],
      "metadata": {
        "id": "StBP5mzma7Kx"
      },
      "execution_count": 2,
      "outputs": []
    },
    {
      "cell_type": "code",
      "execution_count": 17,
      "metadata": {
        "id": "hW5J5z30aGs_"
      },
      "outputs": [],
      "source": [
        "\n",
        "\n"
      ]
    },
    {
      "cell_type": "code",
      "source": [
        "def lineSearch(reduced_grad, s_k, d_k):\n",
        "  alpha = .001\n",
        "  return alpha"
      ],
      "metadata": {
        "id": "nV8VQm1xa1wL"
      },
      "execution_count": 13,
      "outputs": []
    },
    {
      "cell_type": "code",
      "source": [
        "def solve_sk_next(h, s_k_next_0, d_k_next):\n",
        "  return None"
      ],
      "metadata": {
        "id": "9Y8FZxmAbHls"
      },
      "execution_count": 14,
      "outputs": []
    },
    {
      "cell_type": "code",
      "source": [
        "def calc_reduced_gradient(s, d):\n",
        "  del_f_del_s = -np.array([[2*s[0][0], 2*s[1][0]]])\n",
        "  del_h_del_s = np.array([[(2/5)*s[0][0], (2/25)*s[1][0]], [1, -1]])\n",
        "  del_h_del_d = np.array([[d[0][0]], [1]])\n",
        "  grad = np.matmul(np.matmul(del_f_del_s, np.linalg.inv(del_h_del_s)), del_h_del_d)\n",
        "  return grad"
      ],
      "metadata": {
        "id": "RJLat-KzcY7C"
      },
      "execution_count": 28,
      "outputs": []
    },
    {
      "cell_type": "code",
      "source": [
        "def cal_sk_next_o(s_k, d_k, alpha):\n",
        "  return None\n"
      ],
      "metadata": {
        "id": "XCKYtQejfN2O"
      },
      "execution_count": 16,
      "outputs": []
    },
    {
      "cell_type": "code",
      "source": [
        "# Define state and decision variables\n",
        "\n",
        "d = np.array([[1]]) # decision variables\n",
        "s = np.array([[1, 1]]).T # state variables"
      ],
      "metadata": {
        "id": "T-k1WHTRhKr1"
      },
      "execution_count": 34,
      "outputs": []
    },
    {
      "cell_type": "code",
      "source": [
        "gd_Error = []\n",
        "for i in range(epoch):\n",
        "  reduced_grad = calc_reduced_gradient(s, d)\n",
        "  x = x - .001*grad_g\n",
        "\n",
        "  gd_Error.append(np.linalg.norm(grad_g))\n",
        "\n",
        "  if np.linalg.norm(grad_g) < epsilon:\n",
        "    break\n",
        "\n",
        "print(\"Total Epochs:\", i)\n",
        "print(\"Error:\", np.linalg.norm(grad_g))\n",
        "print(\"Solution\", x)"
      ],
      "metadata": {
        "id": "NDJmzyY1gwVl"
      },
      "execution_count": null,
      "outputs": []
    },
    {
      "cell_type": "code",
      "source": [
        "grad = calc_reduced_gradient(s, d)\n",
        "print(grad)"
      ],
      "metadata": {
        "colab": {
          "base_uri": "https://localhost:8080/"
        },
        "id": "T8WlYOLMlbgU",
        "outputId": "588c3a44-f5b4-45e8-febb-7f1acc76e7b3"
      },
      "execution_count": 35,
      "outputs": [
        {
          "output_type": "stream",
          "name": "stdout",
          "text": [
            "[[-7.]]\n"
          ]
        }
      ]
    },
    {
      "cell_type": "code",
      "source": [],
      "metadata": {
        "id": "TkwAH-QWlf8s"
      },
      "execution_count": null,
      "outputs": []
    }
  ]
}
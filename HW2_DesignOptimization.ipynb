{
  "nbformat": 4,
  "nbformat_minor": 0,
  "metadata": {
    "colab": {
      "provenance": [],
      "authorship_tag": "ABX9TyOGfLZVIe/JXcEYw5MOLOUo",
      "include_colab_link": true
    },
    "kernelspec": {
      "name": "python3",
      "display_name": "Python 3"
    },
    "language_info": {
      "name": "python"
    }
  },
  "cells": [
    {
      "cell_type": "markdown",
      "metadata": {
        "id": "view-in-github",
        "colab_type": "text"
      },
      "source": [
        "<a href=\"https://colab.research.google.com/github/YogeshMaan/MAE598-Design-Optimization/blob/main/HW2_DesignOptimization.ipynb\" target=\"_parent\"><img src=\"https://colab.research.google.com/assets/colab-badge.svg\" alt=\"Open In Colab\"/></a>"
      ]
    },
    {
      "cell_type": "code",
      "source": [
        "import numpy as np"
      ],
      "metadata": {
        "id": "S_4pNsTph0TA"
      },
      "execution_count": 1,
      "outputs": []
    },
    {
      "cell_type": "code",
      "execution_count": 2,
      "metadata": {
        "id": "B9czJhaygOPC"
      },
      "outputs": [],
      "source": [
        "# intial conditions\n",
        "\n",
        "x0 = np.array([[1], [1]])\n",
        "k = 0\n",
        "epsilon = 10e-3\n",
        "epoch = 10000\n"
      ]
    },
    {
      "cell_type": "code",
      "source": [
        "# define required function\n",
        "\n",
        "def compute_gradient(x): # x (2, 1) column vector\n",
        "  return np.array([[10*x[0][0] + 12*x[1][0] - 8], [12*x[0][0] + 20*x[1][0] - 14]])\n",
        "\n",
        "def compute_inv_Hessian(x):\n",
        "  hessian = np.array([[10, 12], [12, 20]])\n",
        "  inv_hessian = np.linalg.inv(hessian)\n",
        "  return inv_hessian"
      ],
      "metadata": {
        "id": "wI4CKdsqgVER"
      },
      "execution_count": 3,
      "outputs": []
    },
    {
      "cell_type": "markdown",
      "source": [
        "# Gradient Descent\n",
        "\n",
        "\n"
      ],
      "metadata": {
        "id": "ibRhvPBngO5q"
      }
    },
    {
      "cell_type": "code",
      "source": [
        "x = x0\n",
        "gd_Error = []\n",
        "for i in range(epoch):\n",
        "  grad_g = compute_gradient(x)\n",
        "  x = x - .001*grad_g\n",
        "\n",
        "  gd_Error.append(np.linalg.norm(grad_g))\n",
        "\n",
        "  if np.linalg.norm(grad_g) < epsilon:\n",
        "    break\n",
        "\n",
        "print(\"Total Epochs:\", i)\n",
        "print(\"Error:\", np.linalg.norm(grad_g))\n",
        "print(\"Solution\", x)\n"
      ],
      "metadata": {
        "id": "l0cg86G0iozE",
        "colab": {
          "base_uri": "https://localhost:8080/"
        },
        "outputId": "26cbb9bc-3888-4829-d68c-9caf5df3d587"
      },
      "execution_count": 4,
      "outputs": [
        {
          "output_type": "stream",
          "name": "stdout",
          "text": [
            "Total Epochs: 2555\n",
            "Error: 0.009993383718879822\n",
            "Solution [[-0.13870796]\n",
            " [ 0.78294816]]\n"
          ]
        }
      ]
    },
    {
      "cell_type": "code",
      "source": [
        "import matplotlib.pyplot as plt\n",
        "gd_x = np.linspace(1, 2556, 2556)\n",
        "plt.plot(gd_x, gd_Error)\n",
        "plt.xlabel(\"Epochs\")\n",
        "plt.ylabel(\"Error\")"
      ],
      "metadata": {
        "id": "EAdBUoIii6CX",
        "colab": {
          "base_uri": "https://localhost:8080/",
          "height": 466
        },
        "outputId": "9e94e4ab-f61e-4336-f06d-e11329d9bd9b"
      },
      "execution_count": 5,
      "outputs": [
        {
          "output_type": "execute_result",
          "data": {
            "text/plain": [
              "Text(0.5, 0, 'Epochs')"
            ]
          },
          "metadata": {},
          "execution_count": 5
        },
        {
          "output_type": "display_data",
          "data": {
            "text/plain": [
              "<Figure size 640x480 with 1 Axes>"
            ],
            "image/png": "[encoded data removed]"
          },
          "metadata": {}
        }
      ]
    },
    {
      "cell_type": "markdown",
      "source": [
        "# Newton's Method"
      ],
      "metadata": {
        "id": "Fix7UD-Qs1nD"
      }
    },
    {
      "cell_type": "code",
      "source": [
        "x = x0\n",
        "nm_Error = []\n",
        "for i in range(epoch):\n",
        "  grad_g = compute_gradient(x)\n",
        "  H = compute_inv_Hessian(x)\n",
        "  x = x - .001*np.matmul(H, grad_g)\n",
        "\n",
        "  nm_Error.append(np.linalg.norm(grad_g))\n",
        "\n",
        "  if np.linalg.norm(grad_g) < epsilon:\n",
        "    break\n",
        "\n",
        "print(\"Total Epochs:\", i)\n",
        "print(\"Error:\", np.linalg.norm(grad_g))\n",
        "print(\"Solution\", x)"
      ],
      "metadata": {
        "id": "VFkBM001s30Y",
        "colab": {
          "base_uri": "https://localhost:8080/"
        },
        "outputId": "5af11338-b374-41ce-ad9b-98ff2d06faac"
      },
      "execution_count": 10,
      "outputs": [
        {
          "output_type": "stream",
          "name": "stdout",
          "text": [
            "Total Epochs: 7729\n",
            "Error: 0.00999217819570841\n",
            "Solution [[-0.14235686]\n",
            " [ 0.78580809]]\n"
          ]
        }
      ]
    },
    {
      "cell_type": "code",
      "source": [
        "import matplotlib.pyplot as plt\n",
        "print(len(nm_Error))\n",
        "nm_x = np.linspace(1, len(nm_Error), len(nm_Error))\n",
        "plt.plot(nm_x, nm_Error, label=\"Newton's Method\")\n",
        "plt.plot(gd_x, gd_Error, label= \" Gradient Descent\")\n",
        "plt.xlabel(\"Epochs\")\n",
        "plt.ylabel(\"Error\")\n",
        "plt.legend()"
      ],
      "metadata": {
        "colab": {
          "base_uri": "https://localhost:8080/",
          "height": 484
        },
        "id": "8XWE0Xx-tR62",
        "outputId": "079c8aed-0445-4eca-ffec-6d76e64437f4"
      },
      "execution_count": 11,
      "outputs": [
        {
          "output_type": "stream",
          "name": "stdout",
          "text": [
            "7730\n"
          ]
        },
        {
          "output_type": "execute_result",
          "data": {
            "text/plain": [
              "<matplotlib.legend.Legend at 0x7e65a530fb20>"
            ]
          },
          "metadata": {},
          "execution_count": 11
        },
        {
          "output_type": "display_data",
          "data": {
            "text/plain": [
              "<Figure size 640x480 with 1 Axes>"
            ],
            "image/png": "[encoded data removed]"
          },
          "metadata": {}
        }
      ]
    },
    {
      "cell_type": "code",
      "source": [
        "\n"
      ],
      "metadata": {
        "id": "iyYBWCZPxEc7"
      },
      "execution_count": null,
      "outputs": []
    }
  ]
}
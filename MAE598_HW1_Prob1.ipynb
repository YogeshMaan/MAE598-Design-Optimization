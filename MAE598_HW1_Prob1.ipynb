{
  "nbformat": 4,
  "nbformat_minor": 0,
  "metadata": {
    "colab": {
      "provenance": [],
      "authorship_tag": "ABX9TyOsMscc6X2oQ4aOihOAfA4A",
      "include_colab_link": true
    },
    "kernelspec": {
      "name": "python3",
      "display_name": "Python 3"
    },
    "language_info": {
      "name": "python"
    }
  },
  "cells": [
    {
      "cell_type": "markdown",
      "metadata": {
        "id": "view-in-github",
        "colab_type": "text"
      },
      "source": [
        "<a href=\"https://colab.research.google.com/github/YogeshMaan/MAE598-Design-Optimization/blob/main/MAE598_HW1_Prob1.ipynb\" target=\"_parent\"><img src=\"https://colab.research.google.com/assets/colab-badge.svg\" alt=\"Open In Colab\"/></a>"
      ]
    },
    {
      "cell_type": "code",
      "execution_count": 11,
      "metadata": {
        "id": "adivXrreqWK6"
      },
      "outputs": [],
      "source": [
        "from scipy.optimize import minimize\n",
        "from scipy.optimize import LinearConstraint\n",
        "import numpy as np"
      ]
    },
    {
      "cell_type": "code",
      "source": [
        "def eqn(x):\n",
        "  return (x[0]-x[1])**2 + (x[1]+x[2]-2)**2 + (x[3]-1)**2 + (x[4]-1)**2"
      ],
      "metadata": {
        "id": "djSQXDYwtYmg"
      },
      "execution_count": 19,
      "outputs": []
    },
    {
      "cell_type": "code",
      "source": [
        "#Linear constraints\n",
        "linear_contraint = LinearConstraint([[1, 3, 0, 0, 0],\n",
        "                                     [0, 0, 1, 3, -2],\n",
        "                                     [0, 1, 0, 0, -1],\n",
        "                                     [1, 0, 0,0,0],\n",
        "                                     [0, 1, 0,0,0],\n",
        "                                     [0, 0, 1,0,0],\n",
        "                                     [0, 0, 0,1,0],\n",
        "                                     [0, 0, 0,0,1]],\n",
        "                                    [0,0,0,-10, -10, -10, -10, -10],\n",
        "                                    [0,0,0,10, 10, 10, 10, 10])"
      ],
      "metadata": {
        "id": "4CRITkDLv6om"
      },
      "execution_count": 20,
      "outputs": []
    },
    {
      "cell_type": "code",
      "source": [
        "# initial conditions\n",
        "\n",
        "x0 = [100, 100, 10, 10, 10]\n"
      ],
      "metadata": {
        "id": "HnFb1DEOyhDO"
      },
      "execution_count": 24,
      "outputs": []
    },
    {
      "cell_type": "code",
      "source": [
        "res = minimize(eqn, x0, method='trust-constr', constraints=[linear_contraint], options={'verbose':1})"
      ],
      "metadata": {
        "colab": {
          "base_uri": "https://localhost:8080/"
        },
        "id": "C3qgSEbLyinV",
        "outputId": "3d4bd9a7-7fa5-43f1-e893-47f5cfdc3259"
      },
      "execution_count": 25,
      "outputs": [
        {
          "output_type": "stream",
          "name": "stdout",
          "text": [
            "`xtol` termination condition is satisfied.\n",
            "Number of iterations: 81, function evaluations: 498, CG iterations: 102, optimality: 2.26e-08, constraint violation: 1.11e-16, execution time: 0.14 s.\n"
          ]
        },
        {
          "output_type": "stream",
          "name": "stderr",
          "text": [
            "/usr/local/lib/python3.10/dist-packages/scipy/optimize/_hessian_update_strategy.py:182: UserWarning: delta_grad == 0.0. Check if the approximated function is linear. If the function is linear better results can be obtained by defining the Hessian as zero instead of using quasi-Newton approximations.\n",
            "  warn('delta_grad == 0.0. Check if the approximated '\n"
          ]
        }
      ]
    },
    {
      "cell_type": "code",
      "source": [
        "res"
      ],
      "metadata": {
        "colab": {
          "base_uri": "https://localhost:8080/"
        },
        "id": "IGiD1XuSzUQY",
        "outputId": "766e4c76-6c5f-4e4c-bee2-7cd027617584"
      },
      "execution_count": 26,
      "outputs": [
        {
          "output_type": "execute_result",
          "data": {
            "text/plain": [
              "           message: `xtol` termination condition is satisfied.\n",
              "           success: True\n",
              "            status: 2\n",
              "               fun: 3.150837988826815\n",
              "                 x: [-4.190e-01  1.397e-01  1.402e+00 -3.743e-01  1.397e-01]\n",
              "               nit: 81\n",
              "              nfev: 498\n",
              "              njev: 83\n",
              "              nhev: 0\n",
              "          cg_niter: 102\n",
              "      cg_stop_cond: 1\n",
              "              grad: [-1.117e+00  2.011e-01 -9.162e-01 -2.749e+00 -1.721e+00]\n",
              "   lagrangian_grad: [-2.255e-08  7.518e-09 -7.488e-09  7.508e-09  7.518e-09]\n",
              "            constr: [array([ 5.551e-17, -1.110e-16,  0.000e+00, -4.190e-01,\n",
              "                            1.397e-01,  1.402e+00, -3.743e-01,  1.397e-01])]\n",
              "               jac: [array([[ 1.000e+00,  3.000e+00, ...,  0.000e+00,\n",
              "                             0.000e+00],\n",
              "                           [ 0.000e+00,  0.000e+00, ...,  3.000e+00,\n",
              "                            -2.000e+00],\n",
              "                           ...,\n",
              "                           [ 0.000e+00,  0.000e+00, ...,  1.000e+00,\n",
              "                             0.000e+00],\n",
              "                           [ 0.000e+00,  0.000e+00, ...,  0.000e+00,\n",
              "                             1.000e+00]])]\n",
              "       constr_nfev: [0]\n",
              "       constr_njev: [0]\n",
              "       constr_nhev: [0]\n",
              "                 v: [array([ 1.117e+00,  9.162e-01, -3.553e+00,  4.362e-10,\n",
              "                           -1.447e-10,  2.175e-10, -1.661e-10, -1.447e-10])]\n",
              "            method: tr_interior_point\n",
              "        optimality: 2.255264175410332e-08\n",
              "  constr_violation: 1.1102230246251565e-16\n",
              "    execution_time: 0.13686299324035645\n",
              "         tr_radius: 1.0000000000000005e-09\n",
              "    constr_penalty: 1.0\n",
              " barrier_parameter: 2.048000000000001e-09\n",
              " barrier_tolerance: 2.048000000000001e-09\n",
              "             niter: 81"
            ]
          },
          "metadata": {},
          "execution_count": 26
        }
      ]
    },
    {
      "cell_type": "code",
      "source": [
        "print('for initial condition x0 = [0, 0, 0, 0, 0]')\n",
        "x1= [-4.190e-01,  1.397e-01,  1.402e+00, -3.743e-01,  1.397e-01]\n",
        "print(eqn(x1))\n",
        "\n",
        "print('for initial condition x0 = [1, 1, 1, 1, 1]')\n",
        "x2= [-4.190e-01,  1.397e-01,  1.402e+00, -3.743e-01,  1.397e-01]\n",
        "print(eqn(x2))"
      ],
      "metadata": {
        "id": "WSFn__sqzb2l",
        "colab": {
          "base_uri": "https://localhost:8080/"
        },
        "outputId": "7db89973-3978-449f-ce4b-c9024547e294"
      },
      "execution_count": 18,
      "outputs": [
        {
          "output_type": "stream",
          "name": "stdout",
          "text": [
            "for initial condition x0 = [0, 0, 0, 0, 0]\n",
            "3.1510011600000007\n",
            "for initial condition x0 = [1, 1, 1, 1, 1]\n",
            "3.1510011600000007\n"
          ]
        }
      ]
    },
    {
      "cell_type": "code",
      "source": [],
      "metadata": {
        "id": "apfPU470zyJT"
      },
      "execution_count": null,
      "outputs": []
    }
  ]
}
{
  "nbformat": 4,
  "nbformat_minor": 0,
  "metadata": {
    "colab": {
      "provenance": [],
      "authorship_tag": "ABX9TyOPNOvLz0IJfz9DBxr4cWHC",
      "include_colab_link": true
    },
    "kernelspec": {
      "name": "python3",
      "display_name": "Python 3"
    },
    "language_info": {
      "name": "python"
    }
  },
  "cells": [
    {
      "cell_type": "markdown",
      "metadata": {
        "id": "view-in-github",
        "colab_type": "text"
      },
      "source": [
        "<a href=\"https://colab.research.google.com/github/YogeshMaan/MAE598-Design-Optimization/blob/main/MAE598_HW1_Prob1.ipynb\" target=\"_parent\"><img src=\"https://colab.research.google.com/assets/colab-badge.svg\" alt=\"Open In Colab\"/></a>"
      ]
    },
    {
      "cell_type": "code",
      "execution_count": null,
      "metadata": {
        "id": "adivXrreqWK6"
      },
      "outputs": [],
      "source": [
        "from scipy.optimize import minimize\n",
        "from scipy.optimize import LinearConstraint\n",
        "import numpy as np"
      ]
    },
    {
      "cell_type": "code",
      "source": [
        "def eqn(x):\n",
        "  return (x[0]-x[1])**2 + (x[1]+x[2]-2)**2 + (x[3]-1)**2 + (x[4]-1)**2"
      ],
      "metadata": {
        "id": "djSQXDYwtYmg"
      },
      "execution_count": null,
      "outputs": []
    },
    {
      "cell_type": "code",
      "source": [
        "#Linear constraints\n",
        "linear_contraint = LinearConstraint([[1, 3, 0, 0, 0],\n",
        "                                     [0, 0, 1, 1, -2],\n",
        "                                     [0, 1, 0, 0, -1],\n",
        "                                     [1, 0, 0,0,0],\n",
        "                                     [0, 1, 0,0,0],\n",
        "                                     [0, 0, 1,0,0],\n",
        "                                     [0, 0, 0,1,0],\n",
        "                                     [0, 0, 0,0,1]],\n",
        "                                    [0,0,0,-10, -10, -10, -10, -10],\n",
        "                                    [0,0,0,10, 10, 10, 10, 10])"
      ],
      "metadata": {
        "id": "4CRITkDLv6om"
      },
      "execution_count": null,
      "outputs": []
    },
    {
      "cell_type": "code",
      "source": [
        "# initial conditions\n",
        "\n",
        "x0 = [100, 100, 10, 10, 10]\n"
      ],
      "metadata": {
        "id": "HnFb1DEOyhDO"
      },
      "execution_count": null,
      "outputs": []
    },
    {
      "cell_type": "code",
      "source": [
        "res = minimize(eqn, x0, method='trust-constr', constraints=[linear_contraint], options={'verbose':1})"
      ],
      "metadata": {
        "colab": {
          "base_uri": "https://localhost:8080/"
        },
        "id": "C3qgSEbLyinV",
        "outputId": "6c0b6e9f-f0b9-448f-9740-4ad5aaed7f27"
      },
      "execution_count": null,
      "outputs": [
        {
          "output_type": "stream",
          "name": "stdout",
          "text": [
            "`xtol` termination condition is satisfied.\n",
            "Number of iterations: 63, function evaluations: 198, CG iterations: 61, optimality: 3.37e-08, constraint violation: 0.00e+00, execution time: 0.086 s.\n"
          ]
        },
        {
          "output_type": "stream",
          "name": "stderr",
          "text": [
            "/usr/local/lib/python3.10/dist-packages/scipy/optimize/_hessian_update_strategy.py:182: UserWarning: delta_grad == 0.0. Check if the approximated function is linear. If the function is linear better results can be obtained by defining the Hessian as zero instead of using quasi-Newton approximations.\n",
            "  warn('delta_grad == 0.0. Check if the approximated '\n"
          ]
        }
      ]
    },
    {
      "cell_type": "code",
      "source": [
        "res"
      ],
      "metadata": {
        "colab": {
          "base_uri": "https://localhost:8080/"
        },
        "id": "IGiD1XuSzUQY",
        "outputId": "d0a97be9-983d-4b86-bef1-a4e0fd61d46f"
      },
      "execution_count": null,
      "outputs": [
        {
          "output_type": "execute_result",
          "data": {
            "text/plain": [
              "           message: `xtol` termination condition is satisfied.\n",
              "           success: True\n",
              "            status: 2\n",
              "               fun: 4.093023255813954\n",
              "                 x: [-7.674e-01  2.558e-01  6.279e-01 -1.163e-01  2.558e-01]\n",
              "               nit: 63\n",
              "              nfev: 198\n",
              "              njev: 33\n",
              "              nhev: 0\n",
              "          cg_niter: 61\n",
              "      cg_stop_cond: 4\n",
              "              grad: [-2.047e+00 -1.860e-01 -2.233e+00 -2.233e+00 -1.488e+00]\n",
              "   lagrangian_grad: [-1.351e-08  4.504e-09  3.373e-08 -2.473e-08  4.504e-09]\n",
              "            constr: [array([ 0.000e+00,  0.000e+00,  0.000e+00, -7.674e-01,\n",
              "                            2.558e-01,  6.279e-01, -1.163e-01,  2.558e-01])]\n",
              "               jac: [array([[ 1.000e+00,  3.000e+00, ...,  0.000e+00,\n",
              "                             0.000e+00],\n",
              "                           [ 0.000e+00,  0.000e+00, ...,  1.000e+00,\n",
              "                            -2.000e+00],\n",
              "                           ...,\n",
              "                           [ 0.000e+00,  0.000e+00, ...,  1.000e+00,\n",
              "                             0.000e+00],\n",
              "                           [ 0.000e+00,  0.000e+00, ...,  0.000e+00,\n",
              "                             1.000e+00]])]\n",
              "       constr_nfev: [0]\n",
              "       constr_njev: [0]\n",
              "       constr_nhev: [0]\n",
              "                 v: [array([ 2.047e+00,  2.233e+00, -5.953e+00,  2.434e-10,\n",
              "                           -7.977e-11, -6.569e-10,  4.899e-10, -7.977e-11])]\n",
              "            method: tr_interior_point\n",
              "        optimality: 3.3732603377245596e-08\n",
              "  constr_violation: 0.0\n",
              "    execution_time: 0.0864410400390625\n",
              "         tr_radius: 1.0000000000000005e-09\n",
              "    constr_penalty: 1.0\n",
              " barrier_parameter: 2.048000000000001e-09\n",
              " barrier_tolerance: 2.048000000000001e-09\n",
              "             niter: 63"
            ]
          },
          "metadata": {},
          "execution_count": 31
        }
      ]
    },
    {
      "cell_type": "code",
      "source": [
        "print('for initial condition x0 = [0, 0, 0, 0, 0]')\n",
        "x1= [-7.674e-01,  2.558e-01,  6.279e-01, -1.163e-01,  2.558e-01]\n",
        "print(eqn(x1))\n",
        "\n",
        "print('for initial condition x0 = [1, 1, 1, 1, 1]')\n",
        "x2= [-7.674e-01,  2.558e-01,  6.279e-01, -1.163e-01,  2.558e-01]\n",
        "print(eqn(x2))"
      ],
      "metadata": {
        "id": "WSFn__sqzb2l",
        "colab": {
          "base_uri": "https://localhost:8080/"
        },
        "outputId": "aa9a547a-fe2e-495e-a2b1-30812f0a5ffc"
      },
      "execution_count": null,
      "outputs": [
        {
          "output_type": "stream",
          "name": "stdout",
          "text": [
            "for initial condition x0 = [0, 0, 0, 0, 0]\n",
            "4.09302326\n",
            "for initial condition x0 = [1, 1, 1, 1, 1]\n",
            "4.09302326\n"
          ]
        }
      ]
    },
    {
      "cell_type": "code",
      "source": [],
      "metadata": {
        "id": "apfPU470zyJT"
      },
      "execution_count": null,
      "outputs": []
    }
  ]
}